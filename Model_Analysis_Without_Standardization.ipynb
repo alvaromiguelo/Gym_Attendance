{
 "cells": [
  {
   "cell_type": "code",
   "execution_count": 1,
   "id": "09fb515a-8991-4afc-a18f-f8c61a3d13c6",
   "metadata": {},
   "outputs": [],
   "source": [
    "import pandas as pd\n",
    "import numpy as np\n",
    "import matplotlib.pyplot as plt\n",
    "import seaborn as sns"
   ]
  },
  {
   "cell_type": "code",
   "execution_count": 2,
   "id": "86da4ac7-e272-4c0b-975e-bbaff2ac4c8b",
   "metadata": {},
   "outputs": [
    {
     "data": {
      "text/html": [
       "<div>\n",
       "<style scoped>\n",
       "    .dataframe tbody tr th:only-of-type {\n",
       "        vertical-align: middle;\n",
       "    }\n",
       "\n",
       "    .dataframe tbody tr th {\n",
       "        vertical-align: top;\n",
       "    }\n",
       "\n",
       "    .dataframe thead th {\n",
       "        text-align: right;\n",
       "    }\n",
       "</style>\n",
       "<table border=\"1\" class=\"dataframe\">\n",
       "  <thead>\n",
       "    <tr style=\"text-align: right;\">\n",
       "      <th></th>\n",
       "      <th>time</th>\n",
       "      <th>class_capacity</th>\n",
       "      <th>days_before</th>\n",
       "      <th>attendance</th>\n",
       "      <th>age</th>\n",
       "      <th>new_students</th>\n",
       "      <th>over_6_month</th>\n",
       "      <th>Day__Fri</th>\n",
       "      <th>Day__Mon</th>\n",
       "      <th>Day__Sat</th>\n",
       "      <th>Day__Sun</th>\n",
       "      <th>Day__Thu</th>\n",
       "      <th>Day__Tue</th>\n",
       "      <th>Day__Wed</th>\n",
       "      <th>Class__Aqua</th>\n",
       "      <th>Class__Cycling</th>\n",
       "      <th>Class__HIIT</th>\n",
       "      <th>Class__Strength</th>\n",
       "      <th>Class__Yoga</th>\n",
       "    </tr>\n",
       "  </thead>\n",
       "  <tbody>\n",
       "    <tr>\n",
       "      <th>0</th>\n",
       "      <td>0</td>\n",
       "      <td>15</td>\n",
       "      <td>1</td>\n",
       "      <td>8</td>\n",
       "      <td>1</td>\n",
       "      <td>6</td>\n",
       "      <td>4</td>\n",
       "      <td>0</td>\n",
       "      <td>0</td>\n",
       "      <td>0</td>\n",
       "      <td>0</td>\n",
       "      <td>0</td>\n",
       "      <td>0</td>\n",
       "      <td>1</td>\n",
       "      <td>0</td>\n",
       "      <td>0</td>\n",
       "      <td>0</td>\n",
       "      <td>0</td>\n",
       "      <td>1</td>\n",
       "    </tr>\n",
       "    <tr>\n",
       "      <th>1</th>\n",
       "      <td>1</td>\n",
       "      <td>15</td>\n",
       "      <td>3</td>\n",
       "      <td>8</td>\n",
       "      <td>1</td>\n",
       "      <td>7</td>\n",
       "      <td>8</td>\n",
       "      <td>0</td>\n",
       "      <td>0</td>\n",
       "      <td>0</td>\n",
       "      <td>1</td>\n",
       "      <td>0</td>\n",
       "      <td>0</td>\n",
       "      <td>0</td>\n",
       "      <td>1</td>\n",
       "      <td>0</td>\n",
       "      <td>0</td>\n",
       "      <td>0</td>\n",
       "      <td>0</td>\n",
       "    </tr>\n",
       "    <tr>\n",
       "      <th>2</th>\n",
       "      <td>0</td>\n",
       "      <td>15</td>\n",
       "      <td>5</td>\n",
       "      <td>10</td>\n",
       "      <td>0</td>\n",
       "      <td>8</td>\n",
       "      <td>7</td>\n",
       "      <td>0</td>\n",
       "      <td>1</td>\n",
       "      <td>0</td>\n",
       "      <td>0</td>\n",
       "      <td>0</td>\n",
       "      <td>0</td>\n",
       "      <td>0</td>\n",
       "      <td>1</td>\n",
       "      <td>0</td>\n",
       "      <td>0</td>\n",
       "      <td>0</td>\n",
       "      <td>0</td>\n",
       "    </tr>\n",
       "    <tr>\n",
       "      <th>3</th>\n",
       "      <td>1</td>\n",
       "      <td>25</td>\n",
       "      <td>3</td>\n",
       "      <td>18</td>\n",
       "      <td>0</td>\n",
       "      <td>7</td>\n",
       "      <td>9</td>\n",
       "      <td>0</td>\n",
       "      <td>0</td>\n",
       "      <td>0</td>\n",
       "      <td>1</td>\n",
       "      <td>0</td>\n",
       "      <td>0</td>\n",
       "      <td>0</td>\n",
       "      <td>0</td>\n",
       "      <td>0</td>\n",
       "      <td>0</td>\n",
       "      <td>1</td>\n",
       "      <td>0</td>\n",
       "    </tr>\n",
       "    <tr>\n",
       "      <th>4</th>\n",
       "      <td>0</td>\n",
       "      <td>15</td>\n",
       "      <td>5</td>\n",
       "      <td>10</td>\n",
       "      <td>1</td>\n",
       "      <td>5</td>\n",
       "      <td>7</td>\n",
       "      <td>0</td>\n",
       "      <td>1</td>\n",
       "      <td>0</td>\n",
       "      <td>0</td>\n",
       "      <td>0</td>\n",
       "      <td>0</td>\n",
       "      <td>0</td>\n",
       "      <td>0</td>\n",
       "      <td>0</td>\n",
       "      <td>0</td>\n",
       "      <td>0</td>\n",
       "      <td>1</td>\n",
       "    </tr>\n",
       "  </tbody>\n",
       "</table>\n",
       "</div>"
      ],
      "text/plain": [
       "   time  class_capacity  days_before  attendance  age  new_students  \\\n",
       "0     0              15            1           8    1             6   \n",
       "1     1              15            3           8    1             7   \n",
       "2     0              15            5          10    0             8   \n",
       "3     1              25            3          18    0             7   \n",
       "4     0              15            5          10    1             5   \n",
       "\n",
       "   over_6_month  Day__Fri  Day__Mon  Day__Sat  Day__Sun  Day__Thu  Day__Tue  \\\n",
       "0             4         0         0         0         0         0         0   \n",
       "1             8         0         0         0         1         0         0   \n",
       "2             7         0         1         0         0         0         0   \n",
       "3             9         0         0         0         1         0         0   \n",
       "4             7         0         1         0         0         0         0   \n",
       "\n",
       "   Day__Wed  Class__Aqua  Class__Cycling  Class__HIIT  Class__Strength  \\\n",
       "0         1            0               0            0                0   \n",
       "1         0            1               0            0                0   \n",
       "2         0            1               0            0                0   \n",
       "3         0            0               0            0                1   \n",
       "4         0            0               0            0                0   \n",
       "\n",
       "   Class__Yoga  \n",
       "0            1  \n",
       "1            0  \n",
       "2            0  \n",
       "3            0  \n",
       "4            1  "
      ]
     },
     "execution_count": 2,
     "metadata": {},
     "output_type": "execute_result"
    }
   ],
   "source": [
    "df = pd.read_csv('cs_data_cleansed.csv')\n",
    "df.head()"
   ]
  },
  {
   "cell_type": "markdown",
   "id": "d19bfdaf-1413-40bf-a2cc-c3910adadd28",
   "metadata": {
    "tags": []
   },
   "source": [
    "## 4.Modelling"
   ]
  },
  {
   "cell_type": "markdown",
   "id": "15b42e5b-bfb1-483d-9a8b-6e15870052a6",
   "metadata": {},
   "source": [
    "#### 4.1 - Normalization / Standardization"
   ]
  },
  {
   "cell_type": "code",
   "execution_count": 3,
   "id": "3d56a8ed-cce9-48f1-8e8d-7a0f80762090",
   "metadata": {},
   "outputs": [
    {
     "data": {
      "text/html": [
       "<div>\n",
       "<style scoped>\n",
       "    .dataframe tbody tr th:only-of-type {\n",
       "        vertical-align: middle;\n",
       "    }\n",
       "\n",
       "    .dataframe tbody tr th {\n",
       "        vertical-align: top;\n",
       "    }\n",
       "\n",
       "    .dataframe thead th {\n",
       "        text-align: right;\n",
       "    }\n",
       "</style>\n",
       "<table border=\"1\" class=\"dataframe\">\n",
       "  <thead>\n",
       "    <tr style=\"text-align: right;\">\n",
       "      <th></th>\n",
       "      <th>time</th>\n",
       "      <th>class_capacity</th>\n",
       "      <th>days_before</th>\n",
       "      <th>attendance</th>\n",
       "      <th>age</th>\n",
       "      <th>new_students</th>\n",
       "      <th>over_6_month</th>\n",
       "      <th>Day__Fri</th>\n",
       "      <th>Day__Mon</th>\n",
       "      <th>Day__Sat</th>\n",
       "      <th>Day__Sun</th>\n",
       "      <th>Day__Thu</th>\n",
       "      <th>Day__Tue</th>\n",
       "      <th>Day__Wed</th>\n",
       "      <th>Class__Aqua</th>\n",
       "      <th>Class__Cycling</th>\n",
       "      <th>Class__HIIT</th>\n",
       "      <th>Class__Strength</th>\n",
       "      <th>Class__Yoga</th>\n",
       "    </tr>\n",
       "  </thead>\n",
       "  <tbody>\n",
       "    <tr>\n",
       "      <th>count</th>\n",
       "      <td>762.000000</td>\n",
       "      <td>762.000000</td>\n",
       "      <td>762.000000</td>\n",
       "      <td>762.000000</td>\n",
       "      <td>762.000000</td>\n",
       "      <td>762.000000</td>\n",
       "      <td>762.000000</td>\n",
       "      <td>762.000000</td>\n",
       "      <td>762.000000</td>\n",
       "      <td>762.000000</td>\n",
       "      <td>762.000000</td>\n",
       "      <td>762.000000</td>\n",
       "      <td>762.000000</td>\n",
       "      <td>762.000000</td>\n",
       "      <td>762.000000</td>\n",
       "      <td>762.000000</td>\n",
       "      <td>762.000000</td>\n",
       "      <td>762.000000</td>\n",
       "      <td>762.000000</td>\n",
       "    </tr>\n",
       "    <tr>\n",
       "      <th>mean</th>\n",
       "      <td>0.518373</td>\n",
       "      <td>17.506562</td>\n",
       "      <td>2.547244</td>\n",
       "      <td>9.519685</td>\n",
       "      <td>0.912073</td>\n",
       "      <td>5.909449</td>\n",
       "      <td>7.555118</td>\n",
       "      <td>0.123360</td>\n",
       "      <td>0.120735</td>\n",
       "      <td>0.129921</td>\n",
       "      <td>0.150919</td>\n",
       "      <td>0.165354</td>\n",
       "      <td>0.157480</td>\n",
       "      <td>0.152231</td>\n",
       "      <td>0.209974</td>\n",
       "      <td>0.170604</td>\n",
       "      <td>0.179790</td>\n",
       "      <td>0.212598</td>\n",
       "      <td>0.227034</td>\n",
       "    </tr>\n",
       "    <tr>\n",
       "      <th>std</th>\n",
       "      <td>0.499991</td>\n",
       "      <td>4.336755</td>\n",
       "      <td>1.355768</td>\n",
       "      <td>3.841164</td>\n",
       "      <td>0.612087</td>\n",
       "      <td>1.666218</td>\n",
       "      <td>1.883668</td>\n",
       "      <td>0.329065</td>\n",
       "      <td>0.326033</td>\n",
       "      <td>0.336438</td>\n",
       "      <td>0.358205</td>\n",
       "      <td>0.371744</td>\n",
       "      <td>0.364492</td>\n",
       "      <td>0.359481</td>\n",
       "      <td>0.407557</td>\n",
       "      <td>0.376409</td>\n",
       "      <td>0.384265</td>\n",
       "      <td>0.409415</td>\n",
       "      <td>0.419190</td>\n",
       "    </tr>\n",
       "    <tr>\n",
       "      <th>min</th>\n",
       "      <td>0.000000</td>\n",
       "      <td>15.000000</td>\n",
       "      <td>1.000000</td>\n",
       "      <td>4.000000</td>\n",
       "      <td>0.000000</td>\n",
       "      <td>3.000000</td>\n",
       "      <td>4.000000</td>\n",
       "      <td>0.000000</td>\n",
       "      <td>0.000000</td>\n",
       "      <td>0.000000</td>\n",
       "      <td>0.000000</td>\n",
       "      <td>0.000000</td>\n",
       "      <td>0.000000</td>\n",
       "      <td>0.000000</td>\n",
       "      <td>0.000000</td>\n",
       "      <td>0.000000</td>\n",
       "      <td>0.000000</td>\n",
       "      <td>0.000000</td>\n",
       "      <td>0.000000</td>\n",
       "    </tr>\n",
       "    <tr>\n",
       "      <th>25%</th>\n",
       "      <td>0.000000</td>\n",
       "      <td>15.000000</td>\n",
       "      <td>1.000000</td>\n",
       "      <td>7.000000</td>\n",
       "      <td>1.000000</td>\n",
       "      <td>5.000000</td>\n",
       "      <td>6.000000</td>\n",
       "      <td>0.000000</td>\n",
       "      <td>0.000000</td>\n",
       "      <td>0.000000</td>\n",
       "      <td>0.000000</td>\n",
       "      <td>0.000000</td>\n",
       "      <td>0.000000</td>\n",
       "      <td>0.000000</td>\n",
       "      <td>0.000000</td>\n",
       "      <td>0.000000</td>\n",
       "      <td>0.000000</td>\n",
       "      <td>0.000000</td>\n",
       "      <td>0.000000</td>\n",
       "    </tr>\n",
       "    <tr>\n",
       "      <th>50%</th>\n",
       "      <td>1.000000</td>\n",
       "      <td>15.000000</td>\n",
       "      <td>2.000000</td>\n",
       "      <td>9.000000</td>\n",
       "      <td>1.000000</td>\n",
       "      <td>6.000000</td>\n",
       "      <td>8.000000</td>\n",
       "      <td>0.000000</td>\n",
       "      <td>0.000000</td>\n",
       "      <td>0.000000</td>\n",
       "      <td>0.000000</td>\n",
       "      <td>0.000000</td>\n",
       "      <td>0.000000</td>\n",
       "      <td>0.000000</td>\n",
       "      <td>0.000000</td>\n",
       "      <td>0.000000</td>\n",
       "      <td>0.000000</td>\n",
       "      <td>0.000000</td>\n",
       "      <td>0.000000</td>\n",
       "    </tr>\n",
       "    <tr>\n",
       "      <th>75%</th>\n",
       "      <td>1.000000</td>\n",
       "      <td>22.500000</td>\n",
       "      <td>4.000000</td>\n",
       "      <td>11.000000</td>\n",
       "      <td>1.000000</td>\n",
       "      <td>7.000000</td>\n",
       "      <td>9.000000</td>\n",
       "      <td>0.000000</td>\n",
       "      <td>0.000000</td>\n",
       "      <td>0.000000</td>\n",
       "      <td>0.000000</td>\n",
       "      <td>0.000000</td>\n",
       "      <td>0.000000</td>\n",
       "      <td>0.000000</td>\n",
       "      <td>0.000000</td>\n",
       "      <td>0.000000</td>\n",
       "      <td>0.000000</td>\n",
       "      <td>0.000000</td>\n",
       "      <td>0.000000</td>\n",
       "    </tr>\n",
       "    <tr>\n",
       "      <th>max</th>\n",
       "      <td>1.000000</td>\n",
       "      <td>25.000000</td>\n",
       "      <td>5.000000</td>\n",
       "      <td>21.000000</td>\n",
       "      <td>2.000000</td>\n",
       "      <td>9.000000</td>\n",
       "      <td>11.000000</td>\n",
       "      <td>1.000000</td>\n",
       "      <td>1.000000</td>\n",
       "      <td>1.000000</td>\n",
       "      <td>1.000000</td>\n",
       "      <td>1.000000</td>\n",
       "      <td>1.000000</td>\n",
       "      <td>1.000000</td>\n",
       "      <td>1.000000</td>\n",
       "      <td>1.000000</td>\n",
       "      <td>1.000000</td>\n",
       "      <td>1.000000</td>\n",
       "      <td>1.000000</td>\n",
       "    </tr>\n",
       "  </tbody>\n",
       "</table>\n",
       "</div>"
      ],
      "text/plain": [
       "             time  class_capacity  days_before  attendance         age  \\\n",
       "count  762.000000      762.000000   762.000000  762.000000  762.000000   \n",
       "mean     0.518373       17.506562     2.547244    9.519685    0.912073   \n",
       "std      0.499991        4.336755     1.355768    3.841164    0.612087   \n",
       "min      0.000000       15.000000     1.000000    4.000000    0.000000   \n",
       "25%      0.000000       15.000000     1.000000    7.000000    1.000000   \n",
       "50%      1.000000       15.000000     2.000000    9.000000    1.000000   \n",
       "75%      1.000000       22.500000     4.000000   11.000000    1.000000   \n",
       "max      1.000000       25.000000     5.000000   21.000000    2.000000   \n",
       "\n",
       "       new_students  over_6_month    Day__Fri    Day__Mon    Day__Sat  \\\n",
       "count    762.000000    762.000000  762.000000  762.000000  762.000000   \n",
       "mean       5.909449      7.555118    0.123360    0.120735    0.129921   \n",
       "std        1.666218      1.883668    0.329065    0.326033    0.336438   \n",
       "min        3.000000      4.000000    0.000000    0.000000    0.000000   \n",
       "25%        5.000000      6.000000    0.000000    0.000000    0.000000   \n",
       "50%        6.000000      8.000000    0.000000    0.000000    0.000000   \n",
       "75%        7.000000      9.000000    0.000000    0.000000    0.000000   \n",
       "max        9.000000     11.000000    1.000000    1.000000    1.000000   \n",
       "\n",
       "         Day__Sun    Day__Thu    Day__Tue    Day__Wed  Class__Aqua  \\\n",
       "count  762.000000  762.000000  762.000000  762.000000   762.000000   \n",
       "mean     0.150919    0.165354    0.157480    0.152231     0.209974   \n",
       "std      0.358205    0.371744    0.364492    0.359481     0.407557   \n",
       "min      0.000000    0.000000    0.000000    0.000000     0.000000   \n",
       "25%      0.000000    0.000000    0.000000    0.000000     0.000000   \n",
       "50%      0.000000    0.000000    0.000000    0.000000     0.000000   \n",
       "75%      0.000000    0.000000    0.000000    0.000000     0.000000   \n",
       "max      1.000000    1.000000    1.000000    1.000000     1.000000   \n",
       "\n",
       "       Class__Cycling  Class__HIIT  Class__Strength  Class__Yoga  \n",
       "count      762.000000   762.000000       762.000000   762.000000  \n",
       "mean         0.170604     0.179790         0.212598     0.227034  \n",
       "std          0.376409     0.384265         0.409415     0.419190  \n",
       "min          0.000000     0.000000         0.000000     0.000000  \n",
       "25%          0.000000     0.000000         0.000000     0.000000  \n",
       "50%          0.000000     0.000000         0.000000     0.000000  \n",
       "75%          0.000000     0.000000         0.000000     0.000000  \n",
       "max          1.000000     1.000000         1.000000     1.000000  "
      ]
     },
     "execution_count": 3,
     "metadata": {},
     "output_type": "execute_result"
    }
   ],
   "source": [
    "df.describe()"
   ]
  },
  {
   "cell_type": "markdown",
   "id": "31b9a40d-9e25-4429-84c5-6c77a8de1e25",
   "metadata": {},
   "source": [
    "We will not standardize/normalize our data if, we look closely the max of all our features is 25, while the min is 0 for binary variables.\n",
    "\n",
    "This difference of magnitude don't justify the necessity to normalize so we will start modelling without normalization/standardization."
   ]
  },
  {
   "cell_type": "markdown",
   "id": "6a35d55d-e130-4a68-89f5-23e5f015791b",
   "metadata": {},
   "source": [
    "#### 4.2 - Modelling"
   ]
  },
  {
   "cell_type": "markdown",
   "id": "cd27b7af-96a8-4aca-89e0-18f197c2d947",
   "metadata": {},
   "source": [
    "We will test the following models,\n",
    "\n",
    "- RandomForestRegressor.\n",
    "- DecisionTreeRegressor.\n",
    "- SGDRegressor - This model will probably not generalize well because we have a small dataset.\n",
    "- Lasso.\n",
    "- Ridge.\n",
    "\n",
    "First we will evaluate the models with just the training dataset, we will choose the most promising to fine tune the hyperparameters."
   ]
  },
  {
   "cell_type": "markdown",
   "id": "e78d2e1f-5f00-4383-a817-f0fe11e8ba43",
   "metadata": {},
   "source": [
    "##### 4.2.1 - Train & Test Split"
   ]
  },
  {
   "cell_type": "code",
   "execution_count": 4,
   "id": "4938ff43-e112-476a-8cd1-d546dd06d9a3",
   "metadata": {},
   "outputs": [
    {
     "data": {
      "text/html": [
       "<div>\n",
       "<style scoped>\n",
       "    .dataframe tbody tr th:only-of-type {\n",
       "        vertical-align: middle;\n",
       "    }\n",
       "\n",
       "    .dataframe tbody tr th {\n",
       "        vertical-align: top;\n",
       "    }\n",
       "\n",
       "    .dataframe thead th {\n",
       "        text-align: right;\n",
       "    }\n",
       "</style>\n",
       "<table border=\"1\" class=\"dataframe\">\n",
       "  <thead>\n",
       "    <tr style=\"text-align: right;\">\n",
       "      <th></th>\n",
       "      <th>time</th>\n",
       "      <th>class_capacity</th>\n",
       "      <th>days_before</th>\n",
       "      <th>attendance</th>\n",
       "      <th>age</th>\n",
       "      <th>new_students</th>\n",
       "      <th>over_6_month</th>\n",
       "      <th>Day__Fri</th>\n",
       "      <th>Day__Mon</th>\n",
       "      <th>Day__Sat</th>\n",
       "      <th>Day__Sun</th>\n",
       "      <th>Day__Thu</th>\n",
       "      <th>Day__Tue</th>\n",
       "      <th>Day__Wed</th>\n",
       "      <th>Class__Aqua</th>\n",
       "      <th>Class__Cycling</th>\n",
       "      <th>Class__HIIT</th>\n",
       "      <th>Class__Strength</th>\n",
       "      <th>Class__Yoga</th>\n",
       "    </tr>\n",
       "  </thead>\n",
       "  <tbody>\n",
       "    <tr>\n",
       "      <th>0</th>\n",
       "      <td>0</td>\n",
       "      <td>15</td>\n",
       "      <td>1</td>\n",
       "      <td>8</td>\n",
       "      <td>1</td>\n",
       "      <td>6</td>\n",
       "      <td>4</td>\n",
       "      <td>0</td>\n",
       "      <td>0</td>\n",
       "      <td>0</td>\n",
       "      <td>0</td>\n",
       "      <td>0</td>\n",
       "      <td>0</td>\n",
       "      <td>1</td>\n",
       "      <td>0</td>\n",
       "      <td>0</td>\n",
       "      <td>0</td>\n",
       "      <td>0</td>\n",
       "      <td>1</td>\n",
       "    </tr>\n",
       "    <tr>\n",
       "      <th>1</th>\n",
       "      <td>1</td>\n",
       "      <td>15</td>\n",
       "      <td>3</td>\n",
       "      <td>8</td>\n",
       "      <td>1</td>\n",
       "      <td>7</td>\n",
       "      <td>8</td>\n",
       "      <td>0</td>\n",
       "      <td>0</td>\n",
       "      <td>0</td>\n",
       "      <td>1</td>\n",
       "      <td>0</td>\n",
       "      <td>0</td>\n",
       "      <td>0</td>\n",
       "      <td>1</td>\n",
       "      <td>0</td>\n",
       "      <td>0</td>\n",
       "      <td>0</td>\n",
       "      <td>0</td>\n",
       "    </tr>\n",
       "    <tr>\n",
       "      <th>2</th>\n",
       "      <td>0</td>\n",
       "      <td>15</td>\n",
       "      <td>5</td>\n",
       "      <td>10</td>\n",
       "      <td>0</td>\n",
       "      <td>8</td>\n",
       "      <td>7</td>\n",
       "      <td>0</td>\n",
       "      <td>1</td>\n",
       "      <td>0</td>\n",
       "      <td>0</td>\n",
       "      <td>0</td>\n",
       "      <td>0</td>\n",
       "      <td>0</td>\n",
       "      <td>1</td>\n",
       "      <td>0</td>\n",
       "      <td>0</td>\n",
       "      <td>0</td>\n",
       "      <td>0</td>\n",
       "    </tr>\n",
       "    <tr>\n",
       "      <th>3</th>\n",
       "      <td>1</td>\n",
       "      <td>25</td>\n",
       "      <td>3</td>\n",
       "      <td>18</td>\n",
       "      <td>0</td>\n",
       "      <td>7</td>\n",
       "      <td>9</td>\n",
       "      <td>0</td>\n",
       "      <td>0</td>\n",
       "      <td>0</td>\n",
       "      <td>1</td>\n",
       "      <td>0</td>\n",
       "      <td>0</td>\n",
       "      <td>0</td>\n",
       "      <td>0</td>\n",
       "      <td>0</td>\n",
       "      <td>0</td>\n",
       "      <td>1</td>\n",
       "      <td>0</td>\n",
       "    </tr>\n",
       "    <tr>\n",
       "      <th>4</th>\n",
       "      <td>0</td>\n",
       "      <td>15</td>\n",
       "      <td>5</td>\n",
       "      <td>10</td>\n",
       "      <td>1</td>\n",
       "      <td>5</td>\n",
       "      <td>7</td>\n",
       "      <td>0</td>\n",
       "      <td>1</td>\n",
       "      <td>0</td>\n",
       "      <td>0</td>\n",
       "      <td>0</td>\n",
       "      <td>0</td>\n",
       "      <td>0</td>\n",
       "      <td>0</td>\n",
       "      <td>0</td>\n",
       "      <td>0</td>\n",
       "      <td>0</td>\n",
       "      <td>1</td>\n",
       "    </tr>\n",
       "  </tbody>\n",
       "</table>\n",
       "</div>"
      ],
      "text/plain": [
       "   time  class_capacity  days_before  attendance  age  new_students  \\\n",
       "0     0              15            1           8    1             6   \n",
       "1     1              15            3           8    1             7   \n",
       "2     0              15            5          10    0             8   \n",
       "3     1              25            3          18    0             7   \n",
       "4     0              15            5          10    1             5   \n",
       "\n",
       "   over_6_month  Day__Fri  Day__Mon  Day__Sat  Day__Sun  Day__Thu  Day__Tue  \\\n",
       "0             4         0         0         0         0         0         0   \n",
       "1             8         0         0         0         1         0         0   \n",
       "2             7         0         1         0         0         0         0   \n",
       "3             9         0         0         0         1         0         0   \n",
       "4             7         0         1         0         0         0         0   \n",
       "\n",
       "   Day__Wed  Class__Aqua  Class__Cycling  Class__HIIT  Class__Strength  \\\n",
       "0         1            0               0            0                0   \n",
       "1         0            1               0            0                0   \n",
       "2         0            1               0            0                0   \n",
       "3         0            0               0            0                1   \n",
       "4         0            0               0            0                0   \n",
       "\n",
       "   Class__Yoga  \n",
       "0            1  \n",
       "1            0  \n",
       "2            0  \n",
       "3            0  \n",
       "4            1  "
      ]
     },
     "execution_count": 4,
     "metadata": {},
     "output_type": "execute_result"
    }
   ],
   "source": [
    "df.head()"
   ]
  },
  {
   "cell_type": "markdown",
   "id": "11c0e5b1-f6c6-4264-9582-177de3fe6a14",
   "metadata": {},
   "source": [
    "First divide the dataset into features X and target Y."
   ]
  },
  {
   "cell_type": "code",
   "execution_count": 5,
   "id": "0c1a109f-b4aa-42b1-8e9c-bbabd0afeb93",
   "metadata": {},
   "outputs": [],
   "source": [
    "X = df.drop('attendance', axis = 1)\n",
    "y = df['attendance']"
   ]
  },
  {
   "cell_type": "markdown",
   "id": "b773beed-87d2-4ca3-a1d9-084f390b8d8e",
   "metadata": {},
   "source": [
    "Divide the dataset into Train & Test datasets."
   ]
  },
  {
   "cell_type": "code",
   "execution_count": 6,
   "id": "346f7bfd-dee3-4165-8c95-8e365468ac8b",
   "metadata": {},
   "outputs": [],
   "source": [
    "from sklearn.model_selection import train_test_split\n",
    "X_train, X_test, y_train, y_test = train_test_split(X,y, test_size = 0.2, random_state = 42)"
   ]
  },
  {
   "cell_type": "markdown",
   "id": "d2d5dec8-2c90-4284-b8dc-d7225b4f6e01",
   "metadata": {},
   "source": [
    "##### 4.2.2 - Models Evaluation "
   ]
  },
  {
   "cell_type": "code",
   "execution_count": 7,
   "id": "440f8dc0-1ed8-4023-9152-92ebb7e54f7e",
   "metadata": {},
   "outputs": [],
   "source": [
    "from sklearn.ensemble import RandomForestRegressor\n",
    "from sklearn.tree import DecisionTreeRegressor\n",
    "from sklearn.linear_model import SGDRegressor, Lasso, Ridge, LinearRegression\n",
    "from sklearn.metrics import mean_squared_error, r2_score\n",
    "from sklearn.model_selection import KFold, cross_validate, cross_val_score, cross_val_predict"
   ]
  },
  {
   "cell_type": "markdown",
   "id": "cabc5f96-d4da-429d-914f-59a28de9078a",
   "metadata": {},
   "source": [
    "Cross validation will be used to prevent overfitting. We will apply cross validation first in the train (Yes, we will save 20% of our data) to predict over it as soon as we have the model fine tuned."
   ]
  },
  {
   "cell_type": "code",
   "execution_count": 8,
   "id": "de6196ff-275b-436f-bfb7-6fdca120eef1",
   "metadata": {
    "tags": []
   },
   "outputs": [
    {
     "data": {
      "text/html": [
       "<div>\n",
       "<style scoped>\n",
       "    .dataframe tbody tr th:only-of-type {\n",
       "        vertical-align: middle;\n",
       "    }\n",
       "\n",
       "    .dataframe tbody tr th {\n",
       "        vertical-align: top;\n",
       "    }\n",
       "\n",
       "    .dataframe thead th {\n",
       "        text-align: right;\n",
       "    }\n",
       "</style>\n",
       "<table border=\"1\" class=\"dataframe\">\n",
       "  <thead>\n",
       "    <tr style=\"text-align: right;\">\n",
       "      <th></th>\n",
       "      <th>RFRegressor</th>\n",
       "      <th>DTreeRegressor</th>\n",
       "      <th>SGD</th>\n",
       "      <th>Lasso</th>\n",
       "      <th>Ridge</th>\n",
       "    </tr>\n",
       "  </thead>\n",
       "  <tbody>\n",
       "    <tr>\n",
       "      <th>R*2</th>\n",
       "      <td>0.627719</td>\n",
       "      <td>0.328284</td>\n",
       "      <td>0.428105</td>\n",
       "      <td>0.610734</td>\n",
       "      <td>0.701810</td>\n",
       "    </tr>\n",
       "    <tr>\n",
       "      <th>RMSE_mean</th>\n",
       "      <td>2.320637</td>\n",
       "      <td>3.127939</td>\n",
       "      <td>2.733040</td>\n",
       "      <td>2.383264</td>\n",
       "      <td>2.076217</td>\n",
       "    </tr>\n",
       "    <tr>\n",
       "      <th>RMSE_standard_deviation</th>\n",
       "      <td>0.198041</td>\n",
       "      <td>0.209275</td>\n",
       "      <td>0.905008</td>\n",
       "      <td>0.099409</td>\n",
       "      <td>0.163350</td>\n",
       "    </tr>\n",
       "  </tbody>\n",
       "</table>\n",
       "</div>"
      ],
      "text/plain": [
       "                         RFRegressor  DTreeRegressor       SGD     Lasso  \\\n",
       "R*2                         0.627719        0.328284  0.428105  0.610734   \n",
       "RMSE_mean                   2.320637        3.127939  2.733040  2.383264   \n",
       "RMSE_standard_deviation     0.198041        0.209275  0.905008  0.099409   \n",
       "\n",
       "                            Ridge  \n",
       "R*2                      0.701810  \n",
       "RMSE_mean                2.076217  \n",
       "RMSE_standard_deviation  0.163350  "
      ]
     },
     "execution_count": 8,
     "metadata": {},
     "output_type": "execute_result"
    }
   ],
   "source": [
    "'''Models'''\n",
    "\n",
    "#Definition of models to test\n",
    "\n",
    "models = [\n",
    "          ('RFRegressor', RandomForestRegressor()), \n",
    "          ('DTreeRegressor', DecisionTreeRegressor()),\n",
    "          ('SGD', SGDRegressor()),\n",
    "          ('Lasso', Lasso()), \n",
    "          ('Ridge', Ridge()),\n",
    "        ]\n",
    "\n",
    "'''Accuracy'''\n",
    "\n",
    "#Metric to evaluate\n",
    "\n",
    "scoring_metrics = ['neg_mean_squared_error','r2']\n",
    "\n",
    "#Initialize a dataframe to append the RMSE and STD for each model RMSE\n",
    "\n",
    "dict_metrics = pd.DataFrame(index = ['R*2','RMSE_mean','RMSE_standard_deviation'])\n",
    "\n",
    "#Cross validation will be use with kfold to divide the train datasets into different folds\n",
    "\n",
    "for model_name, model in models:\n",
    "    #Initiate KFold\n",
    "    kfold = KFold(n_splits = 5, shuffle = True, random_state = 42)\n",
    "    \n",
    "    #Perform a cross validate \n",
    "    cv_scores = cross_validate(model, X_train, y_train, cv = kfold, scoring = scoring_metrics)\n",
    "    \n",
    "    #Calculate the RMSE - Mean Square Deviation\n",
    "    model_rmse = np.sqrt(-cv_scores['test_neg_mean_squared_error'])\n",
    "    \n",
    "    dict_metrics[model_name] = [np.mean(cv_scores['test_r2']), np.mean(model_rmse), np.std(model_rmse)]\n",
    "    \n",
    "dict_metrics"
   ]
  },
  {
   "cell_type": "markdown",
   "id": "3c24b3b5-cfcc-48d2-a170-332554347d0b",
   "metadata": {},
   "source": [
    "Analysing the table above we conclude the following,\n",
    "\n",
    "- SGD - As expected it was the model with the worst RMSE, the smaller dataset didn't allow to generalize well, r^2 tells that the the predictor variables only can explain 48%.\n",
    "\n",
    "- DTreeRegressor - Had a decent RMSE but not sufficient to go the next step.\n",
    "\n",
    "- Lasso - Promising Model with the third best RMSE, however it presented best STD meaning that the 5 different kfold_models were very precise.\n",
    "\n",
    "- RFRegressor - Promising RMSE, however having the best RMSE standard deviation. However it will pass to the next step.\n",
    "\n",
    "- Ridge - Best Model, with a low std too.\n",
    "\n",
    "So Lasso, Ridge and RFRegressor will undergo a hyperparameter tuning."
   ]
  },
  {
   "cell_type": "markdown",
   "id": "e2266945-f63f-49ed-aed5-1cf1cef8a7c3",
   "metadata": {},
   "source": [
    "##### 4.2.3 - Hyperparameter Tuning - RFRegressor, Lasso & Ridge"
   ]
  },
  {
   "cell_type": "markdown",
   "id": "c6906ade-1b88-44fa-9a3b-c814c035eade",
   "metadata": {},
   "source": [
    "The first to do is initialize a dataframe to append the Test RMSE of our hyper tuned models."
   ]
  },
  {
   "cell_type": "code",
   "execution_count": 9,
   "id": "4960b4c1-c975-444d-a5e8-11f5f23b14dd",
   "metadata": {},
   "outputs": [],
   "source": [
    "RMSE_test_dataset = pd.DataFrame(index = ['RMSE','R*2'])"
   ]
  },
  {
   "cell_type": "markdown",
   "id": "13f102db-9c11-4151-ade3-7e20ad80819c",
   "metadata": {},
   "source": [
    "##### 4.2.3.1 - RandomForestRegressor"
   ]
  },
  {
   "cell_type": "code",
   "execution_count": 10,
   "id": "f2eb56be-34d6-4055-83f0-fb2c8b67cf68",
   "metadata": {},
   "outputs": [
    {
     "data": {
      "text/plain": [
       "GridSearchCV(cv=5, estimator=RandomForestRegressor(),\n",
       "             param_grid={'max_depth': [2, 4, 6, 8],\n",
       "                         'max_features': [2, 4, 6, 8, 10],\n",
       "                         'min_samples_split': [2, 4, 8, 16]},\n",
       "             return_train_score=True, scoring='neg_mean_squared_error')"
      ]
     },
     "execution_count": 10,
     "metadata": {},
     "output_type": "execute_result"
    }
   ],
   "source": [
    "from sklearn.model_selection import GridSearchCV, RandomizedSearchCV\n",
    "\n",
    "param_grid = {\n",
    "              \"max_depth\": [2, 4, 6, 8],\n",
    "              \"max_features\": [2, 4, 6, 8, 10],\n",
    "              \"min_samples_split\": [2, 4, 8, 16]\n",
    "            }\n",
    "\n",
    "\n",
    "forest_reg = RandomForestRegressor()\n",
    "\n",
    "gridsearch_forest = GridSearchCV(forest_reg,param_grid, cv=5, scoring = 'neg_mean_squared_error', return_train_score=True)\n",
    "\n",
    "gridsearch_forest.fit(X_train, y_train)"
   ]
  },
  {
   "cell_type": "code",
   "execution_count": 23,
   "id": "7bdf1ba9-d7c4-4cf3-9760-08ab4d603b09",
   "metadata": {},
   "outputs": [
    {
     "data": {
      "text/plain": [
       "{'max_depth': 8, 'max_features': 8, 'min_samples_split': 16}"
      ]
     },
     "execution_count": 23,
     "metadata": {},
     "output_type": "execute_result"
    }
   ],
   "source": [
    "gridsearch_forest.best_params_"
   ]
  },
  {
   "cell_type": "markdown",
   "id": "74d76f89-e3e7-4d96-8367-af0299c20230",
   "metadata": {},
   "source": [
    "With the best params obtain from GridSearch, we run again RandomForestRegressor and calculate the RMSE for our train dataset."
   ]
  },
  {
   "cell_type": "code",
   "execution_count": 25,
   "id": "83bba1a5-03e7-4528-b8f2-5885d74a003f",
   "metadata": {},
   "outputs": [
    {
     "name": "stdout",
     "output_type": "stream",
     "text": [
      "The score [2.108622   2.24604501 1.93406657 2.2053702  2.08193622]\n",
      "The mean is 2.115207997858338\n",
      "The standard deviation is 0.10882108984676399\n"
     ]
    }
   ],
   "source": [
    "forest_reg = RandomForestRegressor(max_depth = 8, max_features = 8, min_samples_split = 16)\n",
    "\n",
    "forest_scores = cross_val_score(forest_reg, X_train, y_train, scoring = 'neg_mean_squared_error', cv = 5)\n",
    "\n",
    "forest_rmse = np.sqrt(-forest_scores)\n",
    "\n",
    "print(f'The score {forest_rmse}')\n",
    "print(f'The mean is {np.mean(forest_rmse)}')\n",
    "print(f'The standard deviation is {np.std(forest_rmse)}')"
   ]
  },
  {
   "cell_type": "markdown",
   "id": "52cc250a-c827-4ae6-b085-a03f266585b7",
   "metadata": {},
   "source": [
    "If we compare the RMSE of our previous model with hyperparameter tuned, we achieve a best RMSE, meaning that we were able to optimize the model.\n",
    "\n",
    "Let's now evaluate the RMSE for our test dataset, that hasn't been touched yet."
   ]
  },
  {
   "cell_type": "code",
   "execution_count": 12,
   "id": "291ed5b8-2bd8-42cd-8166-6a4d4f652013",
   "metadata": {},
   "outputs": [
    {
     "data": {
      "text/html": [
       "<div>\n",
       "<style scoped>\n",
       "    .dataframe tbody tr th:only-of-type {\n",
       "        vertical-align: middle;\n",
       "    }\n",
       "\n",
       "    .dataframe tbody tr th {\n",
       "        vertical-align: top;\n",
       "    }\n",
       "\n",
       "    .dataframe thead th {\n",
       "        text-align: right;\n",
       "    }\n",
       "</style>\n",
       "<table border=\"1\" class=\"dataframe\">\n",
       "  <thead>\n",
       "    <tr style=\"text-align: right;\">\n",
       "      <th></th>\n",
       "      <th>RandomForestRegressor</th>\n",
       "    </tr>\n",
       "  </thead>\n",
       "  <tbody>\n",
       "    <tr>\n",
       "      <th>RMSE</th>\n",
       "      <td>1.919407</td>\n",
       "    </tr>\n",
       "    <tr>\n",
       "      <th>R*2</th>\n",
       "      <td>0.749976</td>\n",
       "    </tr>\n",
       "  </tbody>\n",
       "</table>\n",
       "</div>"
      ],
      "text/plain": [
       "      RandomForestRegressor\n",
       "RMSE               1.919407\n",
       "R*2                0.749976"
      ]
     },
     "execution_count": 12,
     "metadata": {},
     "output_type": "execute_result"
    }
   ],
   "source": [
    "#Initiating the the cross val\n",
    "y_pred = gridsearch_forest.predict(X_test)\n",
    "\n",
    "RMSE_test_dataset['RandomForestRegressor'] = [np.sqrt(mean_squared_error(y_test, y_pred)), r2_score(y_test, y_pred)]\n",
    "RMSE_test_dataset"
   ]
  },
  {
   "cell_type": "markdown",
   "id": "aad679fd-3210-4533-8ff6-77c6f58258b3",
   "metadata": {},
   "source": [
    "RSME of our test dataset is at the same magnitude of our Train dataset, is even lower. R*2 of 70% is good too, 70% of the prediction depends on our predictor variables."
   ]
  },
  {
   "cell_type": "markdown",
   "id": "570ded73-2ead-492d-b9d2-8976422f5f1f",
   "metadata": {},
   "source": [
    "##### 4.2.3.2 - Ridge"
   ]
  },
  {
   "cell_type": "markdown",
   "id": "ddf53526-2f83-4c77-8195-d1288834d2be",
   "metadata": {},
   "source": [
    "The only hyperparameter to be fine tuned in Ridge is alpha.\n",
    "\n",
    "Alpha in Ridge regulates the shrinkage of the features in our dataset. Higher the alpha bigger the shrinkage of our features.\n",
    "\n",
    "So we will initiate a model and loop over alpha from 0.01 to 1000, and then we will filter for the best score and find the best alpha for our models."
   ]
  },
  {
   "cell_type": "code",
   "execution_count": 13,
   "id": "1b498a91-c800-4dc9-84c9-ad1d7d2061ee",
   "metadata": {
    "tags": []
   },
   "outputs": [
    {
     "data": {
      "text/plain": [
       "51.01"
      ]
     },
     "execution_count": 13,
     "metadata": {},
     "output_type": "execute_result"
    }
   ],
   "source": [
    "#Alphas will be between 0.01 and 1000\n",
    "alphas = np.arange(0.01,1000, 1)\n",
    "score_ridge = []\n",
    "alpha_score = []\n",
    "\n",
    "#Looping over the alphas considered\n",
    "for alpha in alphas:\n",
    "    #Initiate the Ridge\n",
    "    ridge = Ridge(alpha = alpha)\n",
    "    #Fit the data\n",
    "    ridge.fit(X_train,y_train)\n",
    "    \n",
    "    #Get the R-Squared\n",
    "    score = ridge.score(X_test, y_test)\n",
    "    score_ridge.append(score)\n",
    "    alpha_score.append(alpha)\n",
    "\n",
    "#Finding the position of the max score ridge in the array\n",
    "score_ridge.index(np.max(score_ridge))\n",
    "\n",
    "#Find the alpha in the alpha list\n",
    "alpha_score[score_ridge.index(np.max(score_ridge))]"
   ]
  },
  {
   "cell_type": "markdown",
   "id": "eb9745c4-cfc7-47b0-91c5-0dfdc3205353",
   "metadata": {},
   "source": [
    "We obtain a alpha of 51, we will again redo the cross validation with the best alpha."
   ]
  },
  {
   "cell_type": "code",
   "execution_count": 14,
   "id": "d135574c-4ed6-4a36-bd47-4d1f25c4b11f",
   "metadata": {},
   "outputs": [
    {
     "name": "stdout",
     "output_type": "stream",
     "text": [
      "The score [2.10180562 2.26273253 1.96801479 2.12799001 2.00484743]\n",
      "The mean is 2.0930780762831427\n",
      "The standard deviation is 0.10344381765315203\n"
     ]
    }
   ],
   "source": [
    "ridge_regress = Ridge(alpha_score[score_ridge.index(np.max(score_ridge))])\n",
    "\n",
    "ridge_scores = cross_val_score(ridge_regress, X_train, y_train, scoring = 'neg_mean_squared_error', cv = 5)\n",
    "\n",
    "ridge_rmse = np.sqrt(-ridge_scores)\n",
    "\n",
    "print(f'The score {ridge_rmse}')\n",
    "print(f'The mean is {np.mean(ridge_rmse)}')\n",
    "print(f'The standard deviation is {np.std(ridge_rmse)}')"
   ]
  },
  {
   "cell_type": "code",
   "execution_count": 15,
   "id": "04d5d85a-775f-44c4-9801-260c7d870afa",
   "metadata": {},
   "outputs": [
    {
     "data": {
      "text/html": [
       "<div>\n",
       "<style scoped>\n",
       "    .dataframe tbody tr th:only-of-type {\n",
       "        vertical-align: middle;\n",
       "    }\n",
       "\n",
       "    .dataframe tbody tr th {\n",
       "        vertical-align: top;\n",
       "    }\n",
       "\n",
       "    .dataframe thead th {\n",
       "        text-align: right;\n",
       "    }\n",
       "</style>\n",
       "<table border=\"1\" class=\"dataframe\">\n",
       "  <thead>\n",
       "    <tr style=\"text-align: right;\">\n",
       "      <th></th>\n",
       "      <th>RandomForestRegressor</th>\n",
       "      <th>Ridge</th>\n",
       "    </tr>\n",
       "  </thead>\n",
       "  <tbody>\n",
       "    <tr>\n",
       "      <th>RMSE</th>\n",
       "      <td>1.919407</td>\n",
       "      <td>1.957655</td>\n",
       "    </tr>\n",
       "    <tr>\n",
       "      <th>R*2</th>\n",
       "      <td>0.749976</td>\n",
       "      <td>0.739913</td>\n",
       "    </tr>\n",
       "  </tbody>\n",
       "</table>\n",
       "</div>"
      ],
      "text/plain": [
       "      RandomForestRegressor     Ridge\n",
       "RMSE               1.919407  1.957655\n",
       "R*2                0.749976  0.739913"
      ]
     },
     "execution_count": 15,
     "metadata": {},
     "output_type": "execute_result"
    }
   ],
   "source": [
    "ridge_regress.fit(X_train, y_train)\n",
    "\n",
    "y_pred_ridge = ridge_regress.predict(X_test)\n",
    "\n",
    "RMSE_test_dataset['Ridge'] = [np.sqrt(mean_squared_error(y_test, y_pred_ridge)), r2_score(y_test, y_pred_ridge)]\n",
    "RMSE_test_dataset"
   ]
  },
  {
   "cell_type": "markdown",
   "id": "9cae31f6-964a-4937-aa5c-da837d93edda",
   "metadata": {},
   "source": [
    "RMSE is very good and R*2 is above 70%, even better than RFRegressor."
   ]
  },
  {
   "cell_type": "markdown",
   "id": "159b2a0a-1ce5-4451-bec7-d4ecff47d75d",
   "metadata": {},
   "source": [
    "##### 4.2.3.3 - Lasso"
   ]
  },
  {
   "cell_type": "code",
   "execution_count": 16,
   "id": "e5782092-24c4-4723-a7ae-bbf35e5ad21e",
   "metadata": {},
   "outputs": [
    {
     "data": {
      "text/plain": [
       "0.01"
      ]
     },
     "execution_count": 16,
     "metadata": {},
     "output_type": "execute_result"
    }
   ],
   "source": [
    "#Alphas will be between 0.01 and 1000\n",
    "alphas = np.arange(0.01,1000, 1)\n",
    "score_lasso = []\n",
    "alpha_score = []\n",
    "\n",
    "for alpha in alphas:\n",
    "    #Initiate Lasso\n",
    "    lasso = Lasso(alpha = alpha)\n",
    "    #Fit the data\n",
    "    lasso.fit(X_train,y_train)\n",
    "    \n",
    "    #Get the R-Squared\n",
    "    score = lasso.score(X_test, y_test)\n",
    "    score_lasso.append(score)\n",
    "    alpha_score.append(alpha)\n",
    "\n",
    "#Finding the position of the max score lasso in the array\n",
    "score_lasso.index(np.max(score_lasso))\n",
    "\n",
    "#Find the alpha in the alpha list\n",
    "alpha_score[score_lasso.index(np.max(score_lasso))]"
   ]
  },
  {
   "cell_type": "code",
   "execution_count": 17,
   "id": "732147a9-07ce-424e-b0c0-d12e73d9d097",
   "metadata": {},
   "outputs": [
    {
     "name": "stdout",
     "output_type": "stream",
     "text": [
      "The score [2.02689439 2.20070063 1.92024635 2.15680265 1.98734921]\n",
      "The mean is 2.0583986451512564\n",
      "The standard deviation is 0.10493788574135574\n"
     ]
    }
   ],
   "source": [
    "lasso_regress = Lasso(alpha = 0.01)\n",
    "\n",
    "lasso_scores = cross_val_score(lasso_regress, X, y, scoring = 'neg_mean_squared_error', cv = 5)\n",
    "\n",
    "lasso_rmse = np.sqrt(-lasso_scores)\n",
    "\n",
    "print(f'The score {lasso_rmse}')\n",
    "print(f'The mean is {np.mean(lasso_rmse)}')\n",
    "print(f'The standard deviation is {np.std(lasso_rmse)}')"
   ]
  },
  {
   "cell_type": "markdown",
   "id": "427d439e-72d7-4557-a0f7-c18899d9cfc1",
   "metadata": {},
   "source": [
    "We were able, this time, to optimize Lasso and reach a better RMSE than before."
   ]
  },
  {
   "cell_type": "code",
   "execution_count": 18,
   "id": "617e220e-26ee-4864-a1c6-d6590bd5d4b2",
   "metadata": {},
   "outputs": [
    {
     "data": {
      "text/plain": [
       "2.0725884664927228"
      ]
     },
     "execution_count": 18,
     "metadata": {},
     "output_type": "execute_result"
    }
   ],
   "source": [
    "lasso_test_scores = cross_val_predict(lasso_regress, X_test, y_test, cv = 5)\n",
    "\n",
    "np.sqrt(mean_squared_error(y_test, lasso_test_scores))"
   ]
  },
  {
   "cell_type": "markdown",
   "id": "218df5cf-2f4b-4a19-ba47-95466b0c697b",
   "metadata": {},
   "source": [
    "RMSE of the test dataset has the same magnitude as the train dataset."
   ]
  },
  {
   "cell_type": "code",
   "execution_count": 19,
   "id": "2314d09f-8026-42da-91a8-06c6d0485f33",
   "metadata": {},
   "outputs": [
    {
     "data": {
      "text/html": [
       "<div>\n",
       "<style scoped>\n",
       "    .dataframe tbody tr th:only-of-type {\n",
       "        vertical-align: middle;\n",
       "    }\n",
       "\n",
       "    .dataframe tbody tr th {\n",
       "        vertical-align: top;\n",
       "    }\n",
       "\n",
       "    .dataframe thead th {\n",
       "        text-align: right;\n",
       "    }\n",
       "</style>\n",
       "<table border=\"1\" class=\"dataframe\">\n",
       "  <thead>\n",
       "    <tr style=\"text-align: right;\">\n",
       "      <th></th>\n",
       "      <th>RandomForestRegressor</th>\n",
       "      <th>Ridge</th>\n",
       "      <th>Lasso</th>\n",
       "    </tr>\n",
       "  </thead>\n",
       "  <tbody>\n",
       "    <tr>\n",
       "      <th>RMSE</th>\n",
       "      <td>1.919407</td>\n",
       "      <td>1.957655</td>\n",
       "      <td>1.964382</td>\n",
       "    </tr>\n",
       "    <tr>\n",
       "      <th>R*2</th>\n",
       "      <td>0.749976</td>\n",
       "      <td>0.739913</td>\n",
       "      <td>0.738122</td>\n",
       "    </tr>\n",
       "  </tbody>\n",
       "</table>\n",
       "</div>"
      ],
      "text/plain": [
       "      RandomForestRegressor     Ridge     Lasso\n",
       "RMSE               1.919407  1.957655  1.964382\n",
       "R*2                0.749976  0.739913  0.738122"
      ]
     },
     "execution_count": 19,
     "metadata": {},
     "output_type": "execute_result"
    }
   ],
   "source": [
    "lasso_regress.fit(X_train, y_train)\n",
    "\n",
    "y_pred_lasso = lasso_regress.predict(X_test)\n",
    "\n",
    "RMSE_test_dataset['Lasso'] = [np.sqrt(mean_squared_error(y_test, y_pred_lasso)), r2_score(y_test, y_pred_lasso)]\n",
    "RMSE_test_dataset"
   ]
  },
  {
   "cell_type": "markdown",
   "id": "25453966-75ae-48ce-b449-4809617921d8",
   "metadata": {},
   "source": [
    "RMSE & R2 in the same magnitude as the other models."
   ]
  },
  {
   "cell_type": "markdown",
   "id": "1f123cf4-584e-413d-9e01-db9c996810d9",
   "metadata": {},
   "source": [
    "We will conclude later, however we already found a winner,\n",
    "\n",
    "- 1. Ridge\n",
    "- 2. RFRegressor\n",
    "- 3. Lasso\n",
    "\n",
    "Nevertheless this three models present as good predictors for attendance.\n",
    "\n",
    "We will follow with RandomForestRegressor."
   ]
  },
  {
   "cell_type": "markdown",
   "id": "de11ffe2-ebc0-42c5-81cf-bdddaed0bb70",
   "metadata": {
    "tags": []
   },
   "source": [
    "##### 4.2.4 - Feature Importance - RandomForestRegressor"
   ]
  },
  {
   "cell_type": "markdown",
   "id": "db3140fd-8630-45c0-aff2-8503c0f7af08",
   "metadata": {},
   "source": [
    "Before we conclude about the models, let's plot the feature importance for our RandomForest Regression, to understand which features contributes more and those that contribute less."
   ]
  },
  {
   "cell_type": "code",
   "execution_count": 20,
   "id": "04ece8f9-effd-4c50-91be-d360a5f82604",
   "metadata": {},
   "outputs": [
    {
     "data": {
      "image/png": "[encoded data removed]",
      "text/plain": [
       "<Figure size 1080x360 with 1 Axes>"
      ]
     },
     "metadata": {
      "needs_background": "light"
     },
     "output_type": "display_data"
    }
   ],
   "source": [
    "#Initiate the model\n",
    "forest_reg = RandomForestRegressor(max_depth = 8, max_features = 8, min_samples_split = 16)\n",
    "\n",
    "#Fit the model\n",
    "forest_reg.fit(X_train, y_train)\n",
    "\n",
    "columns = list(df.columns)\n",
    "columns.remove('attendance')\n",
    "\n",
    "#plot the feature importance\n",
    "fig, ax = plt.subplots(figsize = (15,5))\n",
    "plt.bar(columns, forest_reg.feature_importances_)\n",
    "plt.xticks(rotation=45)\n",
    "plt.show()"
   ]
  },
  {
   "cell_type": "markdown",
   "id": "684b5fc5-7cf2-4e71-84cc-beab49790dad",
   "metadata": {},
   "source": [
    "Class capacity, age, and students (both new and over 6 months) are the features that more contributed to predict the attendance to a specific class.\n",
    "\n",
    "Week day, type of classes, day time are some of the classes that don't contribute or contribute less to our model."
   ]
  },
  {
   "cell_type": "markdown",
   "id": "ca646295-6bf1-49b1-8071-f7e0ffbd1f92",
   "metadata": {},
   "source": [
    "Both Lasso & Coeficients have in general the same coefficients for the predictive model. I want to point out the following things,\n",
    "\n",
    "- Age is the feature that has more weight in our model. It's negative meaning that greater the age, lower the attendance.\n",
    "\n",
    "- New students, class capacity and over 6 months have positive coefficients. Follow the feature importance of RF Regressor seen before.\n",
    "\n",
    "- Friday is a positive weighted coefficient, meaning that is an important day to predict the attendance.\n",
    "\n",
    "- The same happens with Hiit Class however it's negative coefficient meaning that we should expect a lower attendance when the class is HiiT."
   ]
  },
  {
   "cell_type": "markdown",
   "id": "6ea97093-807d-45b6-afda-5c7eeb4c1fa3",
   "metadata": {
    "tags": []
   },
   "source": [
    "#### 4.3 - Model Evaluation"
   ]
  },
  {
   "cell_type": "code",
   "execution_count": 21,
   "id": "9081443f-df03-42f3-b655-c775c6b73fde",
   "metadata": {},
   "outputs": [
    {
     "data": {
      "text/html": [
       "<div>\n",
       "<style scoped>\n",
       "    .dataframe tbody tr th:only-of-type {\n",
       "        vertical-align: middle;\n",
       "    }\n",
       "\n",
       "    .dataframe tbody tr th {\n",
       "        vertical-align: top;\n",
       "    }\n",
       "\n",
       "    .dataframe thead th {\n",
       "        text-align: right;\n",
       "    }\n",
       "</style>\n",
       "<table border=\"1\" class=\"dataframe\">\n",
       "  <thead>\n",
       "    <tr style=\"text-align: right;\">\n",
       "      <th></th>\n",
       "      <th>RandomForestRegressor</th>\n",
       "      <th>Ridge</th>\n",
       "      <th>Lasso</th>\n",
       "    </tr>\n",
       "  </thead>\n",
       "  <tbody>\n",
       "    <tr>\n",
       "      <th>RMSE</th>\n",
       "      <td>1.919407</td>\n",
       "      <td>1.957655</td>\n",
       "      <td>1.964382</td>\n",
       "    </tr>\n",
       "    <tr>\n",
       "      <th>R*2</th>\n",
       "      <td>0.749976</td>\n",
       "      <td>0.739913</td>\n",
       "      <td>0.738122</td>\n",
       "    </tr>\n",
       "  </tbody>\n",
       "</table>\n",
       "</div>"
      ],
      "text/plain": [
       "      RandomForestRegressor     Ridge     Lasso\n",
       "RMSE               1.919407  1.957655  1.964382\n",
       "R*2                0.749976  0.739913  0.738122"
      ]
     },
     "execution_count": 21,
     "metadata": {},
     "output_type": "execute_result"
    }
   ],
   "source": [
    "RMSE_test_dataset"
   ]
  },
  {
   "cell_type": "markdown",
   "id": "67b0bfbd-ea21-4319-a791-00b9fb525a90",
   "metadata": {},
   "source": [
    "We chose the RMSE & R2 metrics to evaluate the several models that we were studying, Lasso, Ridge & RFRegressor.\n",
    "\n",
    "These three models were excelent to predict the attendance of the classes, however Ridge was the best one to predict class attendance, and where the independent(predictor) variables can explain more the regression. All the models responded very well to both metrics in study.\n",
    "\n",
    "At the beggining we made some exploratory data analysis to have any idea of the feature importance for our model. Age, new_students and over 6 month were said as good predictors what was confirm by the models, we suspected that time could be a predictor but we were wrong, when we look to the feature importance or coefficient for our linear regression. In fact age is the best predictor for our model.\n",
    "\n",
    "Regarding next steps,\n",
    "\n",
    "- This analysis should be repeated without the noise of the various features that we identified as not important.\n",
    "- It would be nice if the company supply the time for every class, instead of just AM or PM, could be crucial and a very important feature to our model."
   ]
  }
 ],
 "metadata": {
  "kernelspec": {
   "display_name": "Python 3 (ipykernel)",
   "language": "python",
   "name": "python3"
  },
  "language_info": {
   "codemirror_mode": {
    "name": "ipython",
    "version": 3
   },
   "file_extension": ".py",
   "mimetype": "text/x-python",
   "name": "python",
   "nbconvert_exporter": "python",
   "pygments_lexer": "ipython3",
   "version": "3.8.12"
  }
 },
 "nbformat": 4,
 "nbformat_minor": 5
}
